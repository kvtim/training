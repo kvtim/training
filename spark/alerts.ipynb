{
 "cells": [
  {
   "cell_type": "code",
   "execution_count": 1,
   "id": "953fa3bf",
   "metadata": {},
   "outputs": [],
   "source": [
    "from pyspark import SparkContext, SparkConf\n",
    "from pyspark import SQLContext\n",
    "from pyspark.sql import SparkSession\n",
    "from pyspark.sql.functions import *\n",
    "\n",
    "sc = SparkContext()"
   ]
  },
  {
   "cell_type": "code",
   "execution_count": 2,
   "id": "235c8b9b",
   "metadata": {},
   "outputs": [
    {
     "data": {
      "text/html": [
       "\n",
       "        <div>\n",
       "            <p><b>SparkContext</b></p>\n",
       "\n",
       "            <p><a href=\"http://artem:4041\">Spark UI</a></p>\n",
       "\n",
       "            <dl>\n",
       "              <dt>Version</dt>\n",
       "                <dd><code>v3.2.1</code></dd>\n",
       "              <dt>Master</dt>\n",
       "                <dd><code>local[*]</code></dd>\n",
       "              <dt>AppName</dt>\n",
       "                <dd><code>pyspark-shell</code></dd>\n",
       "            </dl>\n",
       "        </div>\n",
       "        "
      ],
      "text/plain": [
       "<SparkContext master=local[*] appName=pyspark-shell>"
      ]
     },
     "execution_count": 2,
     "metadata": {},
     "output_type": "execute_result"
    }
   ],
   "source": [
    "sc"
   ]
  },
  {
   "cell_type": "code",
   "execution_count": 3,
   "id": "4b57b314",
   "metadata": {},
   "outputs": [],
   "source": [
    "spark = SparkSession.builder.getOrCreate()  "
   ]
  },
  {
   "cell_type": "markdown",
   "id": "9a441e6e",
   "metadata": {},
   "source": [
    "1) Прочитайте файл alerts.json"
   ]
  },
  {
   "cell_type": "code",
   "execution_count": 4,
   "id": "38bf1b3a",
   "metadata": {},
   "outputs": [],
   "source": [
    "df = spark.read.json('alerts.json')"
   ]
  },
  {
   "cell_type": "code",
   "execution_count": 5,
   "id": "46fc4c0c",
   "metadata": {
    "scrolled": false
   },
   "outputs": [
    {
     "name": "stdout",
     "output_type": "stream",
     "text": [
      "+-----------+--------------------+-------------------+-------------------+--------------------+----------+\n",
      "|   alert_id|     entitled_assets|  event_source_type|         event_time|         instance_id|    serial|\n",
      "+-----------+--------------------+-------------------+-------------------+--------------------+----------+\n",
      "|ArbwAO2m4Oa|  [qnTrje2, WT87cRS]|healthchecker_alert|2019-06-07 20:50:41|ypJdMVE8XfRgbq8E2...|cyN-1QeXWm|\n",
      "|1AlMxb4jeZ8|[VrE3Mr8, Z0SBQ7L...|healthchecker_alert|2019-06-11 12:46:18|Aygpbf1YPEpvn1CQj...|Ei3-SNCq7e|\n",
      "|ArbwAO2m4Oa|           [MWg0cOi]|       expire_alert|2019-06-15 13:08:36|QcEbVRV6D5KCQsQ9L...|cyo-8FZaon|\n",
      "|KFto5Cml9aH|           [OawSMoe]|       expire_alert|2019-06-02 19:23:49|nTZsmuJWP39TgmoVG...|IfS-5Qrifc|\n",
      "|MlsUENcq3iO|[x8BcRNi, QCDZz5u...|         case_event|2019-06-13 23:45:41|tklUIehgbpBYLIvbo...|DXq-WmHlJj|\n",
      "|u6GnQ51znX6|[KIAO8jQ, RzWUoRl...|       expire_alert|2019-06-19 00:15:42|5qkV4UyYQ596ZrG4M...|bc8-5A2FiC|\n",
      "|jlcYc5PQ5u5|[Za1BpUf, 7lVpL0Q...|healthchecker_alert|2019-06-01 05:01:42|wJH4FoV9LbFQCvJrj...|c06-QvbHi8|\n",
      "|oIpXWTYPGOs|[yFnOS8v, r9RY2sq...|         case_event|2019-06-12 00:08:47|jEx38fGy7dJTQ9Gad...|n0m-gP8Smi|\n",
      "|O9zC9Tx6eJv|           [gllPqNY]|         case_event|2019-06-11 08:46:38|O8RCU305KiPu12mbm...|5y6-7asaXz|\n",
      "|P1GR3AvXGz6|[UJJ8I0y, frVixHs...|healthchecker_alert|2019-06-01 21:24:24|aZxQBeFQVejRmtWjl...|4gR-rmXGeF|\n",
      "|NPDIW6jGkH2|[XPNJjGz, EXUyVF4...|healthchecker_alert|2019-06-08 12:27:18|2y5LSXT38VDB8sRPp...|ATU-k1Jdk0|\n",
      "|ChPjT8d8BRX|           [ybGo8YS]|         case_event|2019-06-18 08:52:06|smtMLyJZIpZ9MIK3U...|8sR-QXaV8Y|\n",
      "|P1GR3AvXGz6|[cRh74vN, ZI1Nu0d...|       expire_alert|2019-06-21 04:44:49|GfY1CYISVSYSGvywb...|vXt-T6FEvo|\n",
      "|GoRkTU71sLp|[d2VrRsn, 1ik3GLH...|         case_event|2019-06-08 09:38:44|e12gObwAhX6B6bx8v...|Kyh-vX5VsZ|\n",
      "|05exWW0L1LJ|[OSWlI3D, aiie3db...|         case_event|2019-06-14 06:18:11|yIDSyULutu2KOq795...|mG6-5k6tsb|\n",
      "|kdg3hBfiwCk|           [xurYcs0]|       expire_alert|2019-06-25 13:49:32|5qK7ugxjXPfxZG7rF...|liG-74HUru|\n",
      "|ArbwAO2m4Oa|[LTY3oq1, tHdkDoV...|       expire_alert|2019-06-13 15:19:21|VOHpiM1Tjk82QVr6L...|149-9kj7VM|\n",
      "|qpzO9bDEXYB|           [v4nlC8l]|healthchecker_alert|2019-06-05 07:14:21|E0McVQeeX14L47ue9...|Pj5-93m5DW|\n",
      "|biXRQ1DEME2|           [SNmANVg]|       expire_alert|2019-06-17 10:45:21|f8hSO7mcikYS02F1Q...|nrl-fIrJu5|\n",
      "|gF33midLYxb|  [0xKJniD, hB6oKZD]|         case_event|2019-06-25 14:27:27|C9EIBjcbrChkbmwpw...|LNO-fmBvjk|\n",
      "+-----------+--------------------+-------------------+-------------------+--------------------+----------+\n",
      "only showing top 20 rows\n",
      "\n"
     ]
    }
   ],
   "source": [
    "df.show()"
   ]
  },
  {
   "cell_type": "markdown",
   "id": "d5dd233c",
   "metadata": {},
   "source": [
    "2) Выведите схему"
   ]
  },
  {
   "cell_type": "code",
   "execution_count": 6,
   "id": "f1846eae",
   "metadata": {
    "scrolled": true
   },
   "outputs": [
    {
     "name": "stdout",
     "output_type": "stream",
     "text": [
      "root\n",
      " |-- alert_id: string (nullable = true)\n",
      " |-- entitled_assets: array (nullable = true)\n",
      " |    |-- element: string (containsNull = true)\n",
      " |-- event_source_type: string (nullable = true)\n",
      " |-- event_time: string (nullable = true)\n",
      " |-- instance_id: string (nullable = true)\n",
      " |-- serial: string (nullable = true)\n",
      "\n"
     ]
    }
   ],
   "source": [
    "df.printSchema()"
   ]
  },
  {
   "cell_type": "markdown",
   "id": "324b54c4",
   "metadata": {},
   "source": [
    "3) Выберите данные c 2019-06-10 по 2019-06-19. Дата и время хранятся в атрибуте event_time."
   ]
  },
  {
   "cell_type": "code",
   "execution_count": 7,
   "id": "bffdcf75",
   "metadata": {
    "scrolled": false
   },
   "outputs": [
    {
     "name": "stdout",
     "output_type": "stream",
     "text": [
      "+-----------+--------------------+-------------------+-------------------+--------------------+----------+\n",
      "|   alert_id|     entitled_assets|  event_source_type|         event_time|         instance_id|    serial|\n",
      "+-----------+--------------------+-------------------+-------------------+--------------------+----------+\n",
      "|1AlMxb4jeZ8|[VrE3Mr8, Z0SBQ7L...|healthchecker_alert|2019-06-11 12:46:18|Aygpbf1YPEpvn1CQj...|Ei3-SNCq7e|\n",
      "|ArbwAO2m4Oa|           [MWg0cOi]|       expire_alert|2019-06-15 13:08:36|QcEbVRV6D5KCQsQ9L...|cyo-8FZaon|\n",
      "|MlsUENcq3iO|[x8BcRNi, QCDZz5u...|         case_event|2019-06-13 23:45:41|tklUIehgbpBYLIvbo...|DXq-WmHlJj|\n",
      "|oIpXWTYPGOs|[yFnOS8v, r9RY2sq...|         case_event|2019-06-12 00:08:47|jEx38fGy7dJTQ9Gad...|n0m-gP8Smi|\n",
      "|O9zC9Tx6eJv|           [gllPqNY]|         case_event|2019-06-11 08:46:38|O8RCU305KiPu12mbm...|5y6-7asaXz|\n",
      "|ChPjT8d8BRX|           [ybGo8YS]|         case_event|2019-06-18 08:52:06|smtMLyJZIpZ9MIK3U...|8sR-QXaV8Y|\n",
      "|05exWW0L1LJ|[OSWlI3D, aiie3db...|         case_event|2019-06-14 06:18:11|yIDSyULutu2KOq795...|mG6-5k6tsb|\n",
      "|ArbwAO2m4Oa|[LTY3oq1, tHdkDoV...|       expire_alert|2019-06-13 15:19:21|VOHpiM1Tjk82QVr6L...|149-9kj7VM|\n",
      "|biXRQ1DEME2|           [SNmANVg]|       expire_alert|2019-06-17 10:45:21|f8hSO7mcikYS02F1Q...|nrl-fIrJu5|\n",
      "|oIpXWTYPGOs|  [6YaSkE7, eZj0nFj]|healthchecker_alert|2019-06-13 15:52:00|iYEqgyBhCEiyln10m...|7oC-nERLNr|\n",
      "|XTBrpBEIW2v|[O9aK1Rp, dj11St9...|healthchecker_alert|2019-06-15 19:31:46|ipTaSHDtk4uVRUQra...|MPe-eo4QyM|\n",
      "|9eWpr1cPXEE|[jYHGoRE, qFZBHOX...|healthchecker_alert|2019-06-18 16:46:09|1RhDsVckpfNrVeXbw...|2to-bdeDHk|\n",
      "|vEfvf9YFExi|[4vkVdAt, hAkVk3h...|       expire_alert|2019-06-13 20:05:00|jEqBDarybZg8E3K4Z...|fYg-28HQKq|\n",
      "|mEmTZVPrTJd|[NphC1wS, lBmbcwL...|healthchecker_alert|2019-06-15 15:23:07|O2lSEoEkxZcmxZCH5...|2sb-e558sZ|\n",
      "|qWytEuoODzH|[EydAG4k, nxEh1HU...|         case_event|2019-06-11 03:10:34|6oN3Yz1FHJJ0zPTNU...|Hc9-QW3GKe|\n",
      "|uTQimz0xfbI|           [LUsBITI]|       expire_alert|2019-06-13 14:46:13|emFQnChqkjRAWXein...|xmU-EsZyym|\n",
      "|Za6H30LVAdt|[dLaL0Q4, ErzNMfB...|       expire_alert|2019-06-15 06:54:27|shVrYSlfUge4ctrvf...|mmO-sPicRf|\n",
      "|czQwIHOzm03|[WbsKFGu, ekG3XXE...|healthchecker_alert|2019-06-12 01:10:03|eoSV6vRsEK0lrfQjd...|x23-uhxUOj|\n",
      "|eSh0VWspC3x|[q3cWLlp, RELlmbV...|         case_event|2019-06-13 01:40:49|UAb3xtVJFA7046gDP...|lNw-PdeHCF|\n",
      "|BxKRvWMrY6I|[DcVSAKy, AJDUVsf...|healthchecker_alert|2019-06-16 11:55:05|R78fLiC3uzvCGwRzV...|YAU-D9IQ4R|\n",
      "+-----------+--------------------+-------------------+-------------------+--------------------+----------+\n",
      "only showing top 20 rows\n",
      "\n"
     ]
    }
   ],
   "source": [
    "df = df.filter( (col('event_time') >= lit('2019-06-10')) & (col('event_time') <= lit('2019-06-19')) )\n",
    "df.show()"
   ]
  },
  {
   "cell_type": "markdown",
   "id": "fb64108e",
   "metadata": {},
   "source": [
    "4) Выберите данные типа healthchecker_alert (атрибут event_source_type)"
   ]
  },
  {
   "cell_type": "code",
   "execution_count": 8,
   "id": "c26b7536",
   "metadata": {
    "scrolled": false
   },
   "outputs": [
    {
     "name": "stdout",
     "output_type": "stream",
     "text": [
      "+-----------+--------------------+-------------------+-------------------+--------------------+----------+\n",
      "|   alert_id|     entitled_assets|  event_source_type|         event_time|         instance_id|    serial|\n",
      "+-----------+--------------------+-------------------+-------------------+--------------------+----------+\n",
      "|1AlMxb4jeZ8|[VrE3Mr8, Z0SBQ7L...|healthchecker_alert|2019-06-11 12:46:18|Aygpbf1YPEpvn1CQj...|Ei3-SNCq7e|\n",
      "|oIpXWTYPGOs|  [6YaSkE7, eZj0nFj]|healthchecker_alert|2019-06-13 15:52:00|iYEqgyBhCEiyln10m...|7oC-nERLNr|\n",
      "|XTBrpBEIW2v|[O9aK1Rp, dj11St9...|healthchecker_alert|2019-06-15 19:31:46|ipTaSHDtk4uVRUQra...|MPe-eo4QyM|\n",
      "|9eWpr1cPXEE|[jYHGoRE, qFZBHOX...|healthchecker_alert|2019-06-18 16:46:09|1RhDsVckpfNrVeXbw...|2to-bdeDHk|\n",
      "|mEmTZVPrTJd|[NphC1wS, lBmbcwL...|healthchecker_alert|2019-06-15 15:23:07|O2lSEoEkxZcmxZCH5...|2sb-e558sZ|\n",
      "|czQwIHOzm03|[WbsKFGu, ekG3XXE...|healthchecker_alert|2019-06-12 01:10:03|eoSV6vRsEK0lrfQjd...|x23-uhxUOj|\n",
      "|BxKRvWMrY6I|[DcVSAKy, AJDUVsf...|healthchecker_alert|2019-06-16 11:55:05|R78fLiC3uzvCGwRzV...|YAU-D9IQ4R|\n",
      "|W03mt1Aibkm|  [SCfUdGg, kPKEeK5]|healthchecker_alert|2019-06-13 08:47:18|u08ixYoqrLHNOfZkW...|VC2-rzkPGR|\n",
      "|sHqLZ3ygoVI|[XXN7ndy, DcyUqKH...|healthchecker_alert|2019-06-10 19:18:53|xjyd8PywfehZA5tVG...|clU-HGOg9j|\n",
      "|Pbt9PMCguA6|[oTFIwfG, 4Y1YaLN...|healthchecker_alert|2019-06-16 21:54:12|OgZfRHOowrvYU0fwH...|1Zn-BmtXg8|\n",
      "|vliWc3PkkOJ|[IClkMK8, 6XSFoXM...|healthchecker_alert|2019-06-15 03:48:21|w8DFnQMsmvSRItCKy...|WES-YQrlKS|\n",
      "|YqxeNT2b1WJ|           [kPao2qc]|healthchecker_alert|2019-06-11 09:44:43|9JMrTtAi6StVb7c2y...|GyG-DDnIsH|\n",
      "|S2byDm68oNU|[gbVdL74, CGcQHu6...|healthchecker_alert|2019-06-16 17:55:37|GKoTIJmgrXQZ5AT2N...|kBk-mtRsfH|\n",
      "|h4MLSFigPQ4|[bcHeC1V, 7KYBeL0...|healthchecker_alert|2019-06-12 16:29:28|GH5wPe61NOpS4lMQQ...|AvB-wUW5pl|\n",
      "|O9zC9Tx6eJv|[5z2T9gK, cJnV1pr...|healthchecker_alert|2019-06-15 18:43:05|aw2gGDj1kfGkpFa9b...|wXf-DfaYaU|\n",
      "|1AlMxb4jeZ8|[1kAow2r, iBsp1Tm...|healthchecker_alert|2019-06-16 01:31:23|67kmSRLuqV5YMiDTQ...|je0-2R1B4N|\n",
      "|MT9HnkOcAUA|[35yMFZA, 4ssDy0H...|healthchecker_alert|2019-06-17 00:31:44|LtW8kqN46R8FNkGgr...|bFz-eFRxtl|\n",
      "|oQ9FOYI48SY|[t1Y7g6s, 6qyhsSr...|healthchecker_alert|2019-06-18 08:59:06|b2q8NGScHFhu3RG4O...|kXS-6q6IJB|\n",
      "|XhBrfwWdYgU|[jzOVqi2, 08eQJhb...|healthchecker_alert|2019-06-11 17:09:12|nS3G3YBEOYApGiTrb...|X8J-aUFAPn|\n",
      "|MT9HnkOcAUA|[LVfoG2r, N0cheY7...|healthchecker_alert|2019-06-10 03:38:31|ai4Kzi73j2o6O6gi1...|4Oy-U52NvV|\n",
      "+-----------+--------------------+-------------------+-------------------+--------------------+----------+\n",
      "only showing top 20 rows\n",
      "\n"
     ]
    }
   ],
   "source": [
    "df = df.filter( col('event_source_type') == 'healthchecker_alert' )\n",
    "df.show()"
   ]
  },
  {
   "cell_type": "markdown",
   "id": "74708290",
   "metadata": {},
   "source": [
    "5) Для каждого alert_id оставьте только первое по времени событие за каждый день."
   ]
  },
  {
   "cell_type": "code",
   "execution_count": 9,
   "id": "415d6ae4",
   "metadata": {},
   "outputs": [
    {
     "name": "stdout",
     "output_type": "stream",
     "text": [
      "+-----------+-----+\n",
      "|   alert_id|count|\n",
      "+-----------+-----+\n",
      "|XGo0nQHCZzR|    8|\n",
      "|8x9rwGukOmB|   15|\n",
      "|FYFObaGlK4Q|   16|\n",
      "|2VsSDcyzFF7|   16|\n",
      "|Y7cWwyAi30w|   16|\n",
      "|0ZrX3rIidUB|    8|\n",
      "|XhBrfwWdYgU|   10|\n",
      "|Ph5RppQOrFa|   14|\n",
      "|W03mt1Aibkm|   14|\n",
      "|1AlMxb4jeZ8|   12|\n",
      "|vEfvf9YFExi|    8|\n",
      "|XTBrpBEIW2v|   14|\n",
      "|bMyqknj909n|   10|\n",
      "|05exWW0L1LJ|    9|\n",
      "|aGYNCmS1qwf|    7|\n",
      "|h4MLSFigPQ4|    9|\n",
      "|X9x5OMaVagy|   11|\n",
      "|S2byDm68oNU|   12|\n",
      "|814iPfEdDRq|    8|\n",
      "|nGw2Qqb7Ll8|    8|\n",
      "+-----------+-----+\n",
      "only showing top 20 rows\n",
      "\n"
     ]
    }
   ],
   "source": [
    "df.groupBy('alert_id').count().show()"
   ]
  },
  {
   "cell_type": "code",
   "execution_count": 10,
   "id": "66d33acf",
   "metadata": {},
   "outputs": [
    {
     "name": "stdout",
     "output_type": "stream",
     "text": [
      "+-----------+--------------------+-------------------+-------------------+--------------------+----------+---+\n",
      "|   alert_id|     entitled_assets|  event_source_type|         event_time|         instance_id|    serial|day|\n",
      "+-----------+--------------------+-------------------+-------------------+--------------------+----------+---+\n",
      "|8x9rwGukOmB|[qRSHlOc, 6UvfMaY...|healthchecker_alert|2019-06-10 16:53:04|uoAIgVh2CskdRg6d0...|v0d-lZHim6| 10|\n",
      "|8x9rwGukOmB|           [H0sGidD]|healthchecker_alert|2019-06-11 02:49:20|umlkYKmkRIYM9WDKw...|WrE-KQ4FHT| 11|\n",
      "|8x9rwGukOmB|[ygoOWIq, 0nQK0wB...|healthchecker_alert|2019-06-11 13:44:20|H849Liqgg9TBGHZSp...|DGT-IjgIcP| 11|\n",
      "|8x9rwGukOmB|[64oXgME, mX40ZHe...|healthchecker_alert|2019-06-11 23:47:00|JvLS7GFsvdOZDi8Wu...|Znx-soVwuA| 11|\n",
      "|8x9rwGukOmB|[NTYopJc, Nr7O8bu...|healthchecker_alert|2019-06-12 12:10:05|xfxRq2l0Im1dwbJJ3...|cvy-vjqbAO| 12|\n",
      "|8x9rwGukOmB|[3MI7tNw, NxU5ifH...|healthchecker_alert|2019-06-13 10:37:59|X89gf8aMylxcIaBfF...|H62-QuqlJo| 13|\n",
      "|8x9rwGukOmB|[lZVSO6a, Su0jgL0...|healthchecker_alert|2019-06-14 02:48:57|cjhyyCRD7GA7l6qaN...|qip-e7iZ0a| 14|\n",
      "|8x9rwGukOmB|[79wickF, ApFsSH4...|healthchecker_alert|2019-06-14 13:48:19|54ZjNPlDT5XQLr5sg...|kCF-kNC08o| 14|\n",
      "|8x9rwGukOmB|  [MvZamYF, wcSkyfW]|healthchecker_alert|2019-06-14 15:31:27|4friA2QmGOYePMTvW...|XtN-jXlUId| 14|\n",
      "|8x9rwGukOmB|[3rgzdUf, bCvuKdV...|healthchecker_alert|2019-06-14 18:59:58|3Ddz7aNcLCdgIQDfi...|J9B-I5xva5| 14|\n",
      "|8x9rwGukOmB|           [08JW4CQ]|healthchecker_alert|2019-06-14 21:03:42|tHukMdUxA0K0dYCqN...|WTu-DfpX1b| 14|\n",
      "|8x9rwGukOmB|[b1nVXi7, 9yLeERi...|healthchecker_alert|2019-06-14 21:27:59|gbyJ1785I10uZ19wX...|4fm-ApbhsE| 14|\n",
      "|8x9rwGukOmB|  [wm7jR29, T8XIz7p]|healthchecker_alert|2019-06-15 15:48:18|kKJMkEQDjlhzRFRdC...|dKA-wUzWbu| 15|\n",
      "|8x9rwGukOmB|[pqxmgN2, QI4QJYz...|healthchecker_alert|2019-06-16 03:14:56|Y1vR43SWoIiPZadaR...|T8K-GP1hw1| 16|\n",
      "|8x9rwGukOmB|[siAxa0X, MBRuW5l...|healthchecker_alert|2019-06-16 23:09:23|FY2jOZYHRy8OpSsqS...|17j-KHUvS4| 16|\n",
      "+-----------+--------------------+-------------------+-------------------+--------------------+----------+---+\n",
      "\n"
     ]
    }
   ],
   "source": [
    "df = df.withColumn(\"event_time\", to_timestamp(col(\"event_time\"))).withColumn(\"day\", date_format(col(\"event_time\"), \"d\"))\\\n",
    ".orderBy('event_time')\n",
    "\n",
    "df.filter(col('alert_id') == '8x9rwGukOmB').show()"
   ]
  },
  {
   "cell_type": "code",
   "execution_count": 11,
   "id": "27a25a74",
   "metadata": {},
   "outputs": [
    {
     "name": "stdout",
     "output_type": "stream",
     "text": [
      "+-----------+--------------------+-------------------+-------------------+--------------------+----------+---+\n",
      "|   alert_id|     entitled_assets|  event_source_type|         event_time|         instance_id|    serial|day|\n",
      "+-----------+--------------------+-------------------+-------------------+--------------------+----------+---+\n",
      "|8x9rwGukOmB|[qRSHlOc, 6UvfMaY...|healthchecker_alert|2019-06-10 16:53:04|uoAIgVh2CskdRg6d0...|v0d-lZHim6| 10|\n",
      "|8x9rwGukOmB|           [H0sGidD]|healthchecker_alert|2019-06-11 02:49:20|umlkYKmkRIYM9WDKw...|WrE-KQ4FHT| 11|\n",
      "|8x9rwGukOmB|[NTYopJc, Nr7O8bu...|healthchecker_alert|2019-06-12 12:10:05|xfxRq2l0Im1dwbJJ3...|cvy-vjqbAO| 12|\n",
      "|8x9rwGukOmB|[3MI7tNw, NxU5ifH...|healthchecker_alert|2019-06-13 10:37:59|X89gf8aMylxcIaBfF...|H62-QuqlJo| 13|\n",
      "|8x9rwGukOmB|[lZVSO6a, Su0jgL0...|healthchecker_alert|2019-06-14 02:48:57|cjhyyCRD7GA7l6qaN...|qip-e7iZ0a| 14|\n",
      "|8x9rwGukOmB|  [wm7jR29, T8XIz7p]|healthchecker_alert|2019-06-15 15:48:18|kKJMkEQDjlhzRFRdC...|dKA-wUzWbu| 15|\n",
      "|8x9rwGukOmB|[pqxmgN2, QI4QJYz...|healthchecker_alert|2019-06-16 03:14:56|Y1vR43SWoIiPZadaR...|T8K-GP1hw1| 16|\n",
      "+-----------+--------------------+-------------------+-------------------+--------------------+----------+---+\n",
      "\n"
     ]
    }
   ],
   "source": [
    "df = df.dropDuplicates([\"alert_id\", \"day\"])\n",
    "\n",
    "df.filter(col('alert_id') == '8x9rwGukOmB').orderBy('event_time').show()"
   ]
  },
  {
   "cell_type": "markdown",
   "id": "880f47a4",
   "metadata": {},
   "source": [
    "6) В поле entitled_assets хранится массив данных. Размножьте каждую строку таким образом, чтобы в новой строке было одно значение из этого массива."
   ]
  },
  {
   "cell_type": "code",
   "execution_count": 12,
   "id": "c1d5b6fa",
   "metadata": {
    "scrolled": false
   },
   "outputs": [
    {
     "name": "stdout",
     "output_type": "stream",
     "text": [
      "+-----------+-------------------+--------+\n",
      "|   alert_id|         event_time|asset_id|\n",
      "+-----------+-------------------+--------+\n",
      "|05exWW0L1LJ|2019-06-10 06:17:00| 519tAsn|\n",
      "|05exWW0L1LJ|2019-06-10 06:17:00| 9as1um8|\n",
      "|05exWW0L1LJ|2019-06-10 06:17:00| H1Y5is8|\n",
      "|05exWW0L1LJ|2019-06-11 05:09:14| TATtnhk|\n",
      "|05exWW0L1LJ|2019-06-11 05:09:14| CPOuE5I|\n",
      "|05exWW0L1LJ|2019-06-11 05:09:14| BJLxoS5|\n",
      "|05exWW0L1LJ|2019-06-11 05:09:14| KSV9Deh|\n",
      "|05exWW0L1LJ|2019-06-13 01:30:10| V8truZy|\n",
      "|05exWW0L1LJ|2019-06-13 01:30:10| mltG6S5|\n",
      "|05exWW0L1LJ|2019-06-15 09:34:13| XzXUOZE|\n",
      "|05exWW0L1LJ|2019-06-16 09:52:23| RYkQnXn|\n",
      "|05exWW0L1LJ|2019-06-16 09:52:23| fN5wUM1|\n",
      "|05exWW0L1LJ|2019-06-16 09:52:23| PdKLXzT|\n",
      "|05exWW0L1LJ|2019-06-16 09:52:23| w4w4Doc|\n",
      "|0ZrX3rIidUB|2019-06-10 08:11:16| ewcaOTO|\n",
      "|0ZrX3rIidUB|2019-06-12 22:32:07| 0m0yngn|\n",
      "|0ZrX3rIidUB|2019-06-12 22:32:07| xmb0IKR|\n",
      "|0ZrX3rIidUB|2019-06-12 22:32:07| OyGjpss|\n",
      "|0ZrX3rIidUB|2019-06-12 22:32:07| Nftahf7|\n",
      "|0ZrX3rIidUB|2019-06-12 22:32:07| klF990V|\n",
      "+-----------+-------------------+--------+\n",
      "only showing top 20 rows\n",
      "\n"
     ]
    }
   ],
   "source": [
    "df = df.select(df.alert_id, df.event_time, explode(df.entitled_assets).alias(\"asset_id\"))\n",
    "\n",
    "df.show()"
   ]
  },
  {
   "cell_type": "markdown",
   "id": "16cbf828",
   "metadata": {},
   "source": [
    "7) Оставьте только следующие колонки: alert_id, event_time, date, asset_id. "
   ]
  },
  {
   "cell_type": "code",
   "execution_count": 13,
   "id": "f4b58caa",
   "metadata": {},
   "outputs": [
    {
     "name": "stdout",
     "output_type": "stream",
     "text": [
      "+-----------+-------------------+--------+----------+\n",
      "|   alert_id|         event_time|asset_id|      date|\n",
      "+-----------+-------------------+--------+----------+\n",
      "|05exWW0L1LJ|2019-06-10 06:17:00| 519tAsn|2019-06-10|\n",
      "|05exWW0L1LJ|2019-06-10 06:17:00| 9as1um8|2019-06-10|\n",
      "|05exWW0L1LJ|2019-06-10 06:17:00| H1Y5is8|2019-06-10|\n",
      "|05exWW0L1LJ|2019-06-11 05:09:14| TATtnhk|2019-06-11|\n",
      "|05exWW0L1LJ|2019-06-11 05:09:14| CPOuE5I|2019-06-11|\n",
      "|05exWW0L1LJ|2019-06-11 05:09:14| BJLxoS5|2019-06-11|\n",
      "|05exWW0L1LJ|2019-06-11 05:09:14| KSV9Deh|2019-06-11|\n",
      "|05exWW0L1LJ|2019-06-13 01:30:10| V8truZy|2019-06-13|\n",
      "|05exWW0L1LJ|2019-06-13 01:30:10| mltG6S5|2019-06-13|\n",
      "|05exWW0L1LJ|2019-06-15 09:34:13| XzXUOZE|2019-06-15|\n",
      "|05exWW0L1LJ|2019-06-16 09:52:23| RYkQnXn|2019-06-16|\n",
      "|05exWW0L1LJ|2019-06-16 09:52:23| fN5wUM1|2019-06-16|\n",
      "|05exWW0L1LJ|2019-06-16 09:52:23| PdKLXzT|2019-06-16|\n",
      "|05exWW0L1LJ|2019-06-16 09:52:23| w4w4Doc|2019-06-16|\n",
      "|0ZrX3rIidUB|2019-06-10 08:11:16| ewcaOTO|2019-06-10|\n",
      "|0ZrX3rIidUB|2019-06-12 22:32:07| 0m0yngn|2019-06-12|\n",
      "|0ZrX3rIidUB|2019-06-12 22:32:07| xmb0IKR|2019-06-12|\n",
      "|0ZrX3rIidUB|2019-06-12 22:32:07| OyGjpss|2019-06-12|\n",
      "|0ZrX3rIidUB|2019-06-12 22:32:07| Nftahf7|2019-06-12|\n",
      "|0ZrX3rIidUB|2019-06-12 22:32:07| klF990V|2019-06-12|\n",
      "+-----------+-------------------+--------+----------+\n",
      "only showing top 20 rows\n",
      "\n"
     ]
    }
   ],
   "source": [
    "df = df.withColumn(\"date\", to_date((col(\"event_time\"))))\n",
    "df.show()"
   ]
  },
  {
   "cell_type": "markdown",
   "id": "fb376081",
   "metadata": {},
   "source": [
    "Получившийся датафрейм сохраните в формате csv. "
   ]
  },
  {
   "cell_type": "code",
   "execution_count": 15,
   "id": "d4a3ff35",
   "metadata": {},
   "outputs": [],
   "source": [
    "# df.write.csv('alerts.csv')\n",
    "\n",
    "df.toPandas().to_csv('alerts.csv')"
   ]
  }
 ],
 "metadata": {
  "kernelspec": {
   "display_name": "Python 3",
   "language": "python",
   "name": "python3"
  },
  "language_info": {
   "codemirror_mode": {
    "name": "ipython",
    "version": 3
   },
   "file_extension": ".py",
   "mimetype": "text/x-python",
   "name": "python",
   "nbconvert_exporter": "python",
   "pygments_lexer": "ipython3",
   "version": "3.10.4"
  }
 },
 "nbformat": 4,
 "nbformat_minor": 5
}
