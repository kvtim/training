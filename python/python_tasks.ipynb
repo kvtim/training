{
 "cells": [
  {
   "cell_type": "markdown",
   "id": "94b66c08",
   "metadata": {},
   "source": [
    "1. Написать скрипт, который запрашивает ввод фразы и отображает кота, \"говорящего\" о том, что было предоставлено пользователем. Поместите ввод, предоставленный пользователем, внутри речевого пузыря. Заставьте речевой пузырь расширяться или сжиматься, чтобы он соответствовал вводимым пользователем данным. Пример ввода: \"Pet me and I will purr.\"."
   ]
  },
  {
   "cell_type": "code",
   "execution_count": 14,
   "id": "92da0667",
   "metadata": {},
   "outputs": [
    {
     "name": "stdout",
     "output_type": "stream",
     "text": [
      "Enter the string: Pet me and I will purr.\n",
      "\n",
      "             _______________________\n",
      "           < Pet me and I will purr. >\n",
      "             -----------------------\n",
      "          /\n",
      " /\\_/\\   /\n",
      "( ○.○ ) \n",
      " > ^ < \n"
     ]
    }
   ],
   "source": [
    "string = input(\"Enter the string: \")\n",
    "print('''\n",
    "             {}\n",
    "           < {} >\n",
    "             {}\n",
    "          /\n",
    " /\\_/\\   /\n",
    "( ○.○ ) \n",
    " > ^ < '''.format(\"\".join((['_' for character in string])), string,\n",
    "                              \"\".join((['-' for character in string]))))"
   ]
  },
  {
   "cell_type": "markdown",
   "id": "eb027827",
   "metadata": {},
   "source": [
    "2.1. Составить список покупок. За один раз можно добавить один товар. Количество товаров не ограничено. (Вводить до тех пор, пока не будет введена пустая строка). После завершения ввода всех необходимых покупок, вывести окончательный список."
   ]
  },
  {
   "cell_type": "code",
   "execution_count": 49,
   "id": "4ee8f17e",
   "metadata": {},
   "outputs": [
    {
     "name": "stdout",
     "output_type": "stream",
     "text": [
      "q\n",
      "w\n",
      "e\n",
      "r\n",
      "t\n",
      "y\n",
      "\n",
      "['q', 'w', 'e', 'r', 't', 'y']\n"
     ]
    }
   ],
   "source": [
    "def all_products(): return [product for product in iter(input, '')]\n",
    "\n",
    "print(all_products())"
   ]
  },
  {
   "cell_type": "markdown",
   "id": "d617d234",
   "metadata": {},
   "source": [
    " 2.2 Составить список покупок. За один раз можно добавить один товар. Количество товаров не ограничено. (Вводить до тех пор, пока не будет введена пустая строка). После завершения ввода всех необходимых товаров, вывести полученный список продуктов с суммарным количеством каждого товара. Строки должны быть уникальными. Удалить из списка продукт, чаще всего встречающийся в полученном списке."
   ]
  },
  {
   "cell_type": "code",
   "execution_count": 50,
   "id": "374ca15b",
   "metadata": {},
   "outputs": [
    {
     "name": "stdout",
     "output_type": "stream",
     "text": [
      "q\n",
      "q\n",
      "q\n",
      "w\n",
      "w\n",
      "e\n",
      "r\n",
      "r\n",
      "r\n",
      "r\n",
      "t\n",
      "\n",
      "{'w': 2, 'q': 3, 't': 1, 'e': 1, 'r': 4}\n",
      "{'w': 2, 'q': 3, 't': 1, 'e': 1}\n"
     ]
    }
   ],
   "source": [
    "products_list = all_products()\n",
    "\n",
    "products = dict((product, products_list.count(product)) for product in set(products_list))\n",
    "print(products)\n",
    "\n",
    "products = dict(((key, value) for key, value in products.items() if value != max(products.values())))\n",
    "print(products)"
   ]
  },
  {
   "cell_type": "code",
   "execution_count": null,
   "id": "259e0e20",
   "metadata": {},
   "outputs": [],
   "source": []
  }
 ],
 "metadata": {
  "kernelspec": {
   "display_name": "Python 3 (ipykernel)",
   "language": "python",
   "name": "python3"
  },
  "language_info": {
   "codemirror_mode": {
    "name": "ipython",
    "version": 3
   },
   "file_extension": ".py",
   "mimetype": "text/x-python",
   "name": "python",
   "nbconvert_exporter": "python",
   "pygments_lexer": "ipython3",
   "version": "3.9.10"
  }
 },
 "nbformat": 4,
 "nbformat_minor": 5
}
