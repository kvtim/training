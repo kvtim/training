{
 "cells": [
  {
   "cell_type": "markdown",
   "id": "e90247a5",
   "metadata": {},
   "source": [
    "1. Метод перегрузки сложения будет возвращать новый объект того же класса."
   ]
  },
  {
   "cell_type": "code",
   "execution_count": 78,
   "id": "6495dadf",
   "metadata": {},
   "outputs": [
    {
     "name": "stdout",
     "output_type": "stream",
     "text": [
      "<__main__.Adder object at 0x0000020678155E20>\n",
      "<__main__.Adder object at 0x0000020678623340>\n",
      "<__main__.Adder object at 0x0000020678155E20>\n",
      "<__main__.Adder object at 0x00000206786232B0>\n",
      "<__main__.Adder object at 0x00000206786231C0>\n"
     ]
    }
   ],
   "source": [
    "class Adder:\n",
    "    def __add__(self, b):\n",
    "        return Adder()\n",
    "\n",
    "print(Adder() + 1)\n",
    "print(Adder() + Adder())\n",
    "\n",
    "a = Adder()\n",
    "print(a)\n",
    "\n",
    "b = Adder()\n",
    "print(b)\n",
    "\n",
    "print(a + b)"
   ]
  },
  {
   "cell_type": "markdown",
   "id": "b9a072f3",
   "metadata": {},
   "source": [
    "2. Разработать класс, который наследует функциональность стандартного типа str и содержит 2 новых метода:\n",
    "метод is_repeatance (s), который принимает 1 аргумент s и возвращает True или False в зависимости от того, может ли текущая строка быть получена целым количеством повторов строки s. Вернуть False, если s не является строкой. Считать, что пустая строка не содержит повторов. Метод is_palindrom (), который возвращает True или False в зависимости от того, является ли строка палиндромом. Регистрами символов пренебрегать. Пустую строку считать палиндромом."
   ]
  },
  {
   "cell_type": "code",
   "execution_count": 1,
   "id": "8c2a7485",
   "metadata": {},
   "outputs": [
    {
     "name": "stdout",
     "output_type": "stream",
     "text": [
      "Repeatance tests:\n",
      "123123123123:\n",
      "123 True\n",
      "123123 True\n",
      "1231 False\n",
      "123123123123 True\n",
      "12 False\n",
      "1 False\n",
      "empty string:\n",
      "False\n",
      "False\n",
      "False\n",
      "\n",
      "Palindrom tests:\n",
      "12321 True\n",
      "1232 False\n",
      "empty string True\n"
     ]
    }
   ],
   "source": [
    "class MyStr(str):\n",
    "    def is_repeatance(self, s):\n",
    "        if not isinstance(s, str) or s == '' or self == '':\n",
    "            return False\n",
    "        return ''.join(self.split(s)) == ''\n",
    "    \n",
    "    def is_palindrom(self):\n",
    "        return self.lower() == self[::-1].lower()\n",
    "\n",
    "print('Repeatance tests:')\n",
    "\n",
    "string = MyStr('123123123123')\n",
    "print(string + ':\\n' + '123', string.is_repeatance('123'))\n",
    "print('123123', string.is_repeatance('123123'))\n",
    "print('1231', string.is_repeatance('1231'))\n",
    "print('123123123123', string.is_repeatance('123123123123'))\n",
    "print('12', string.is_repeatance('12'))\n",
    "print('1', string.is_repeatance('1'))\n",
    "\n",
    "print('empty string:')\n",
    "print(MyStr().is_repeatance('123'))\n",
    "print(string.is_repeatance(''))\n",
    "print(MyStr('').is_repeatance(''))\n",
    "\n",
    "print('\\nPalindrom tests:')\n",
    "\n",
    "palindrom = MyStr('12321')\n",
    "print(palindrom, palindrom.is_palindrom())\n",
    "print('1232', MyStr('1232').is_palindrom())\n",
    "print('empty string', MyStr('').is_palindrom())"
   ]
  },
  {
   "cell_type": "markdown",
   "id": "8bdec465",
   "metadata": {},
   "source": [
    "3. Пусть у нас будет класс \"Цилиндр\". При создании объектов от этого класса у них заводятся поля высота и диаметр, а также площадь поверхности. Вычисление площади можно поместить в отдельную статическую функцию. Она вроде и относится к цилиндрам, но с другой стороны само вычисление объекта не требует и может быть использовано где угодно. Защитите код от возможных логических ошибок следующим образом: Свойствам dia и h объекта по-прежнему можно выполнять присваивание за пределами класса. Однако при этом \"за кулисами\" происходит пересчет площади, т. е. изменение значения area. Свойству area нельзя присваивать за пределами класса. Можно только получать его значение."
   ]
  },
  {
   "cell_type": "code",
   "execution_count": 1,
   "id": "a177dc4c",
   "metadata": {},
   "outputs": [
    {
     "name": "stdout",
     "output_type": "stream",
     "text": [
      "7.85\n",
      "11.0\n",
      "18.85\n"
     ]
    }
   ],
   "source": [
    "from math import pi\n",
    "\n",
    "def make_area(d, h):\n",
    "    circle = pi * d ** 2 / 4\n",
    "    side = pi * d * h\n",
    "    return round(circle*2 + side, 2)\n",
    "\n",
    "class Cylinder: \n",
    "    def __init__(self, di, hi):\n",
    "        self.d = di\n",
    "        self.h = hi\n",
    "        \n",
    "    def __setattr__(self, attr, value):\n",
    "            self.__dict__[attr] = value\n",
    "            if attr != '_Cylinder__area' and 'h' in self.__dict__.keys():\n",
    "                self.__area = make_area(self.d, self.h)\n",
    "                \n",
    "    def get_area(self):\n",
    "        return self.__area\n",
    "            \n",
    "a = Cylinder(1, 2)\n",
    "print(a.get_area())\n",
    "\n",
    "a.h = 3\n",
    "print(a.get_area())\n",
    " \n",
    "print(make_area(2, 2))"
   ]
  },
  {
   "cell_type": "code",
   "execution_count": null,
   "id": "98783d08",
   "metadata": {},
   "outputs": [],
   "source": []
  }
 ],
 "metadata": {
  "kernelspec": {
   "display_name": "Python 3 (ipykernel)",
   "language": "python",
   "name": "python3"
  },
  "language_info": {
   "codemirror_mode": {
    "name": "ipython",
    "version": 3
   },
   "file_extension": ".py",
   "mimetype": "text/x-python",
   "name": "python",
   "nbconvert_exporter": "python",
   "pygments_lexer": "ipython3",
   "version": "3.9.10"
  }
 },
 "nbformat": 4,
 "nbformat_minor": 5
}
